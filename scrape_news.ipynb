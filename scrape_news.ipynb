{
  "nbformat": 4,
  "nbformat_minor": 0,
  "metadata": {
    "colab": {
      "name": "scrape_news",
      "version": "0.3.2",
      "provenance": [],
      "collapsed_sections": [],
      "include_colab_link": true
    },
    "kernelspec": {
      "name": "python3",
      "display_name": "Python 3"
    }
  },
  "cells": [
    {
      "cell_type": "markdown",
      "metadata": {
        "id": "view-in-github",
        "colab_type": "text"
      },
      "source": [
        "<a href=\"https://colab.research.google.com/github/NadiaRom/kse_texty_nlp/blob/master/scrape_news.ipynb\" target=\"_parent\"><img src=\"https://colab.research.google.com/assets/colab-badge.svg\" alt=\"Open In Colab\"/></a>"
      ]
    },
    {
      "cell_type": "markdown",
      "metadata": {
        "id": "eXdneAq59CGZ",
        "colab_type": "text"
      },
      "source": [
        "## Classify jeans!\n",
        "\n",
        "Train **XGBoost**  to detect jeans, compare with fastai **Language model** classifier.\n",
        "\n",
        "# data + labels + algorithm = classifier\n",
        "\n"
      ]
    },
    {
      "cell_type": "markdown",
      "metadata": {
        "id": "J11yiBZZ_LHu",
        "colab_type": "text"
      },
      "source": [
        "# Data\n",
        "\n",
        "1. Download links to jeans\n",
        "2. Crawl jeans news htmls\n",
        "3. Add other news about politicians\n",
        "4. html -> text -> ltokens -> ready to analyze"
      ]
    },
    {
      "cell_type": "code",
      "metadata": {
        "id": "m6fm3UB4_H2H",
        "colab_type": "code",
        "colab": {}
      },
      "source": [
        "!pip install -U pip numpy pandas tqdm scipy scikit-learn beautifulsoup4 scrapy sqlalchemy tokenize_uk nltk xgboost\n",
        "!pip freeze > requiremens.txt"
      ],
      "execution_count": 0,
      "outputs": []
    },
    {
      "cell_type": "code",
      "metadata": {
        "id": "4ivwgTKxBMVL",
        "colab_type": "code",
        "colab": {}
      },
      "source": [
        ""
      ],
      "execution_count": 0,
      "outputs": []
    },
    {
      "cell_type": "code",
      "metadata": {
        "id": "ziogvAno86Yt",
        "colab_type": "code",
        "colab": {}
      },
      "source": [
        ""
      ],
      "execution_count": 0,
      "outputs": []
    }
  ]
}